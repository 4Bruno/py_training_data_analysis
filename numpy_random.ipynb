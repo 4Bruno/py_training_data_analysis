{
 "cells": [
  {
   "cell_type": "code",
   "execution_count": 2,
   "id": "741830b9-988f-4353-a8e4-56844444afea",
   "metadata": {},
   "outputs": [],
   "source": [
    "import numpy as np\n",
    "from numpy.random import PCG64 as pcg\n",
    "from numpy.random import Generator as gen"
   ]
  },
  {
   "cell_type": "code",
   "execution_count": 8,
   "id": "3a6a2409-87c1-41e0-b468-52eb2b729643",
   "metadata": {},
   "outputs": [
    {
     "data": {
      "text/plain": [
       "array([[ 3.13663237,  6.37896649,  6.09650336],\n",
       "       [ 4.56498378,  7.0225757 ,  8.38795342],\n",
       "       [ 1.84816358, -2.05704945,  5.27767457]])"
      ]
     },
     "execution_count": 8,
     "metadata": {},
     "output_type": "execute_result"
    }
   ],
   "source": [
    "gen(pcg()).normal(loc=5, scale=2,size=(3,3))"
   ]
  },
  {
   "cell_type": "code",
   "execution_count": 50,
   "id": "5ed8e945-259c-4be1-b293-31c42b1dc78a",
   "metadata": {},
   "outputs": [],
   "source": [
    "# if a given seed, we need to run pcg(seed=x) every time\n",
    "u = gen(pcg(seed=40)).uniform(size=(3,3)) * 100 # between (0.0,1.0) by default you can change it\n",
    "r = gen(pcg(seed=40)).random(size=(3,3)) * 100 # between (0.0,1.0)\n",
    "n = gen(pcg(seed=40)).normal(loc=5, scale=2, size=(3,3)) # mean = 5, deviation = 2\n",
    "# given n-choices each one with p probability (default is same p for all) create a matrix\n",
    "c = gen(pcg(seed=40)).choice([1,2,3,4,5],p=(0.1,0.1,0.2,0.3,0.3),size=(3,3))\n",
    "# PMF = (e^-lam)*(lam^k)/k!, prob of observing k-events given an average of lam-events (call center - calls/hour)\n",
    "p = gen(pcg(seed=40)).poisson(lam = 10,size=(5,5))\n",
    "# out of n-events given a p-probability how many events returns\n",
    "b = gen(pcg(seed=40)).binomial(n= 100, p= 0.3,size=(5,5))\n",
    "l = gen(pcg(seed=40)).logistic(loc = 9,size=(5,5))"
   ]
  },
  {
   "cell_type": "code",
   "execution_count": 51,
   "id": "2976ec5d-154d-40c1-b517-1b2889d77667",
   "metadata": {},
   "outputs": [
    {
     "name": "stdout",
     "output_type": "stream",
     "text": [
      "uniform * 100:\n",
      " [[72.98984953 69.34149568 94.19210172]\n",
      " [ 5.965206   69.05209707 92.2397519 ]\n",
      " [47.56831775 33.8390691  60.18828053]]\n",
      "random * 100:\n",
      " [[72.98984953 69.34149568 94.19210172]\n",
      " [ 5.965206   69.05209707 92.2397519 ]\n",
      " [47.56831775 33.8390691  60.18828053]]\n",
      "normal:\n",
      " [[2.71581539 2.86132684 3.48548499]\n",
      " [6.53731626 2.92412907 2.94792733]\n",
      " [4.21476148 7.77545789 3.16509808]]\n",
      "choice:\n",
      " [[5 4 5]\n",
      " [1 4 5]\n",
      " [4 3 4]]\n",
      "poisson:\n",
      " [[12 16 10 11  5]\n",
      " [11  3  7 13  6]\n",
      " [10  9  9 11  9]\n",
      " [ 8  7  7 12 11]\n",
      " [ 7  8  5 11  9]]\n",
      "binomial:\n",
      " [[33 32 37 23 32]\n",
      " [37 30 28 31 33]\n",
      " [24 24 32 22 22]\n",
      " [28 26 33 34 26]\n",
      " [25 28 30 30 29]]\n"
     ]
    },
    {
     "data": {
      "text/plain": [
       "[None, None, None, None, None, None]"
      ]
     },
     "execution_count": 51,
     "metadata": {},
     "output_type": "execute_result"
    }
   ],
   "source": [
    "samples = {'uniform * 100':u,'random * 100':r,'normal':n,'choice':c,'poisson':p, 'binomial' : b}\n",
    "[print(\"{}:\\n {}\".format(k,samples[k])) for k in samples.keys()]"
   ]
  },
  {
   "cell_type": "code",
   "execution_count": 52,
   "id": "0d1685cf-12ca-425f-8e8f-7b047108a4c8",
   "metadata": {},
   "outputs": [
    {
     "name": "stdout",
     "output_type": "stream",
     "text": [
      "[4.5399929762484875e-05, 0.00045399929762484877, 0.0022699964881242435, 0.007566654960414146, 0.018916637401035365, 0.03783327480207073, 0.06305545800345122, 0.09007922571921602, 0.11259903214902002, 0.12511003572113336, 0.12511003572113336, 0.11373639611012125, 0.09478033009176769, 0.07290794622443669, 0.05207710444602621, 0.034718069630684134, 0.021698793519177587, 0.01276399618775152, 0.0070911089931952895, 0.003732162627997521]\n"
     ]
    },
    {
     "data": {
      "text/plain": [
       "0.9965456580241434"
      ]
     },
     "execution_count": 52,
     "metadata": {},
     "output_type": "execute_result"
    }
   ],
   "source": [
    "# poisson distribution\n",
    "def PMF(mean_rate, kevents):\n",
    "    return m.pow(m.e,-mean_rate)*m.pow(mean_rate,kevents)/m.factorial(kevents)\n",
    "# example given avg of 10 events, if we check the probability of occurring 1 ... 20 events\n",
    "# the sum of all probabilities should be close to 100%\n",
    "lambda_events = 10\n",
    "max_number_of_events = 20\n",
    "print([PMF(lambda_events,i) for i in range(max_number_of_events)])\n",
    "sum([PMF(lambda_events,i) for i in range(max_number_of_events)])    "
   ]
  }
 ],
 "metadata": {
  "kernelspec": {
   "display_name": "Python 3 (ipykernel)",
   "language": "python",
   "name": "python3"
  },
  "language_info": {
   "codemirror_mode": {
    "name": "ipython",
    "version": 3
   },
   "file_extension": ".py",
   "mimetype": "text/x-python",
   "name": "python",
   "nbconvert_exporter": "python",
   "pygments_lexer": "ipython3",
   "version": "3.11.2"
  }
 },
 "nbformat": 4,
 "nbformat_minor": 5
}
