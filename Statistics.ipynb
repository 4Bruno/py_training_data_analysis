{
 "cells": [
  {
   "cell_type": "code",
   "execution_count": 1,
   "id": "4a0d836c-6a4e-4919-8f71-7b91f665b155",
   "metadata": {},
   "outputs": [],
   "source": [
    "import numpy as np\n",
    "import math"
   ]
  },
  {
   "cell_type": "code",
   "execution_count": 60,
   "id": "fa51ed19-c9ef-48b4-b6a6-ce6a8b8287cd",
   "metadata": {},
   "outputs": [],
   "source": [
    "# helper for formatting\n",
    "def array2floatstr(nparray):\n",
    "    temp = nparray.copy()\n",
    "    if not('float' in temp.dtype.__str__()):\n",
    "        temp = np.array(nparray,dtype='float')\n",
    "    return np.array2string(temp,formatter={'float_kind': lambda x: '%.2f' % x})    "
   ]
  },
  {
   "cell_type": "code",
   "execution_count": 2,
   "id": "1e1787d3-7da6-4c83-8002-147a68609280",
   "metadata": {},
   "outputs": [],
   "source": [
    "a = np.random.normal(5.0,2.0,size=(3,3))"
   ]
  },
  {
   "cell_type": "code",
   "execution_count": 3,
   "id": "04d38468-5dcf-43ae-9d8b-33633b30a73e",
   "metadata": {},
   "outputs": [],
   "source": [
    "aui32 = np.array(a,dtype=\"uint32\")"
   ]
  },
  {
   "cell_type": "code",
   "execution_count": 4,
   "id": "cd9d903d-eebf-4679-837a-c3d7ba4d2068",
   "metadata": {},
   "outputs": [
    {
     "data": {
      "text/plain": [
       "array([[5, 6, 3],\n",
       "       [5, 2, 6],\n",
       "       [4, 5, 7]], dtype=uint32)"
      ]
     },
     "execution_count": 4,
     "metadata": {},
     "output_type": "execute_result"
    }
   ],
   "source": [
    "aui32"
   ]
  },
  {
   "cell_type": "code",
   "execution_count": 5,
   "id": "53b24521-49e5-46f3-863b-5062e70230bd",
   "metadata": {},
   "outputs": [
    {
     "data": {
      "text/plain": [
       "array([4, 2, 3], dtype=uint32)"
      ]
     },
     "execution_count": 5,
     "metadata": {},
     "output_type": "execute_result"
    }
   ],
   "source": [
    "# by default reduce apply minimum on the axis=0 (columns)\n",
    "np.minimum.reduce(aui32)"
   ]
  },
  {
   "cell_type": "code",
   "execution_count": 6,
   "id": "8ecef0a5-9ba8-404c-9383-bf8ebd2fca12",
   "metadata": {},
   "outputs": [
    {
     "data": {
      "text/plain": [
       "array([4, 2, 3], dtype=uint32)"
      ]
     },
     "execution_count": 6,
     "metadata": {},
     "output_type": "execute_result"
    }
   ],
   "source": [
    "# calling min directly does the same as above\n",
    "np.min(aui32,axis=0)"
   ]
  },
  {
   "cell_type": "code",
   "execution_count": 7,
   "id": "1aaf6094-2a7a-48ff-8f42-8be2cf19df25",
   "metadata": {},
   "outputs": [
    {
     "name": "stdout",
     "output_type": "stream",
     "text": [
      "Percentile 50 at index 5 with value 5 (* sorted array)\n",
      "['2', '3', '4', '5', '5', '5', '6', '6', '7']\n",
      "['-', '-', '-', '-', '*', '-', '-', '-', '-']\n",
      "np perc result 5\n",
      "np quan result 5\n"
     ]
    }
   ],
   "source": [
    "# percentile display\n",
    "sorted_aui32 = np.sort(aui32,axis=None)\n",
    "perc_value = 50\n",
    "perc_index = float(sorted_aui32.size) * (float(perc_value) / 100.0)\n",
    "perc_index_ui32 = int(round(perc_index + 0.5)) - 1 # base 0\n",
    "dummy_list = ['-'] * sorted_aui32.size\n",
    "dummy_list[perc_index_ui32] = '*'\n",
    "print('Percentile {} at index {} with value {} (* sorted array)'.format(perc_value,perc_index_ui32 + 1,sorted_aui32[perc_index_ui32 ]))\n",
    "print(np.array(sorted_aui32,dtype='str').tolist())\n",
    "print(dummy_list)\n",
    "result_np_perc = np.percentile(aui32, perc_value, interpolation = \"nearest\")\n",
    "# quan does the same as perc but parameter passed is [0,1] instead of [0,100]\n",
    "result_np_quan = np.quantile(aui32, float(perc_value) / 100.0, interpolation = \"nearest\")\n",
    "print('np perc result {}'.format(result_np_perc))\n",
    "print('np quan result {}'.format(result_np_quan))"
   ]
  },
  {
   "cell_type": "code",
   "execution_count": 23,
   "id": "63edde44-b2bd-457b-aaca-46f1485ad89f",
   "metadata": {},
   "outputs": [
    {
     "name": "stdout",
     "output_type": "stream",
     "text": [
      "Mean         : 4.777777777777778\n",
      "Avg          : 4.777777777777778\n",
      "Avg Weighted : 5.331106493866634\n",
      "(using random weights array)\n",
      "[[0.85 0.55 0.02]\n",
      " [0.64 0.28 0.16]\n",
      " [0.04 0.83 0.80]]\n"
     ]
    }
   ],
   "source": [
    "# mean, average\n",
    "# the only difference is that average func can take a weights array \n",
    "aui32_mean = np.mean(aui32)\n",
    "aui32_avg = np.average(aui32)\n",
    "arr_weights = np.random.random(size=aui32.shape)\n",
    "aui32_weighted_avg = np.average(aui32, weights=arr_weights)\n",
    "print('Mean         : {}'.format(aui32_mean))\n",
    "print('Avg          : {}'.format(aui32_avg))\n",
    "print('Avg Weighted : {}'.format(aui32_weighted_avg))\n",
    "print('(using random weights array)')\n",
    "print('{}'.format(array2floatstr(arr_weights)))"
   ]
  },
  {
   "cell_type": "code",
   "execution_count": 35,
   "id": "f5252e18-fcff-4898-b328-71b15d6eca46",
   "metadata": {},
   "outputs": [
    {
     "name": "stdout",
     "output_type": "stream",
     "text": [
      "Manual variance each element:\n",
      "\t [2.00 3.00 4.00 5.00 5.00 5.00 6.00 6.00 7.00]\n",
      "\t-[4.78 4.78 4.78 4.78 4.78 4.78 4.78 4.78 4.78]\n",
      "\t^2--------------------------------------------------\n",
      "\t [7.72 3.16 0.60 0.05 0.05 0.05 1.49 1.49 4.94]\n",
      "Manual variance : 2.17283950617284\n",
      "Source array\n",
      "[[5 6 3]\n",
      " [5 2 6]\n",
      " [4 5 7]]\n",
      "Sorted\n",
      "[2 3 4 5 5 5 6 6 7]\n",
      "Variance    : 2.17283950617284\n",
      "Std Var     : 1.4740554623801778\n",
      "std^2 = var : 2.17283950617284\n"
     ]
    }
   ],
   "source": [
    "# variance, std\n",
    "np_var = np.var(aui32)\n",
    "np_std = np.std(aui32)\n",
    "# for illustration purposes, manual calculation variance: SUM(E( (mean - val) ^ 2)) / num_elements\n",
    "print('Manual variance each element:')\n",
    "print('\\t {}'.format(array2floatstr(np.array(sorted_aui32,dtype='float'))))\n",
    "print('\\t-{}'.format(array2floatstr(np.array([aui32_mean] * sorted_aui32.size))))\n",
    "temp = [math.pow(e - aui32_mean,2) for e in sorted_aui32]\n",
    "print('\\t^2%s' % ('-' * 50))\n",
    "print('\\t %s' % array2floatstr(np.array(temp)))\n",
    "print('Manual variance : {}'.format(sum(temp)/sorted_aui32.size))\n",
    "print('Source array')\n",
    "print(aui32)\n",
    "print('Sorted')\n",
    "print(sorted_aui32)\n",
    "print('Variance    : {}'.format(np_var))\n",
    "print('Std Var     : {}'.format(np_std))\n",
    "print('std^2 = var : {}'.format(math.pow(np_std,2)))"
   ]
  },
  {
   "cell_type": "code",
   "execution_count": 131,
   "id": "7975594e-9472-4af2-920b-1da76f5886c9",
   "metadata": {},
   "outputs": [
    {
     "name": "stdout",
     "output_type": "stream",
     "text": [
      "[[5.00 6.00 3.00]\n",
      " [5.00 2.00 6.00]\n",
      " [4.00 5.00 7.00]]\n",
      "[[2.33 -2.83 -1.83]\n",
      " [-2.83 4.33 1.33]\n",
      " [-1.83 1.33 2.33]]\n",
      "D = X - 1 * 1' * X * (1/r)\n",
      "Ones matrix:\n",
      " [[1. 1. 1.]\n",
      " [1. 1. 1.]\n",
      " [1. 1. 1.]]\n",
      "aui32 * 1/r: \n",
      "[[1.66666667 2.         1.        ]\n",
      " [1.66666667 0.66666667 2.        ]\n",
      " [1.33333333 1.66666667 2.33333333]]\n",
      "Result (X - (1 * 1' * X * 1/r))):\n",
      ":[[ 0.33333333  1.66666667 -2.33333333]\n",
      " [ 0.33333333 -2.33333333  0.66666667]\n",
      " [-0.66666667  0.66666667  1.66666667]]\n"
     ]
    }
   ],
   "source": [
    "# covariance\n",
    "np_cov = np.cov(aui32)\n",
    "print(array2floatstr(aui32))\n",
    "print(array2floatstr(np_cov))\n",
    "num_rows = aui32.shape[0]\n",
    "mul_aui32_OneOverRows = aui32 * (1.0 / num_rows)\n",
    "ones_matrix = np.ones([num_rows] * 2)\n",
    "m_deviations = aui32 - np.dot(ones_matrix, mul_aui32_OneOverRows)\n",
    "print('D = X - 1 * 1\\' * X * (1/r)')\n",
    "print('Ones matrix:\\n %s' % ones_matrix)\n",
    "print('aui32 * 1/r: \\n%s' % mul_aui32_OneOverRows)\n",
    "print('Result (X - (1 * 1\\' * X * 1/r))):\\n:%s' % m_deviations)\n",
    "# np.corrcoef(aui32)"
   ]
  }
 ],
 "metadata": {
  "kernelspec": {
   "display_name": "Python 3 (ipykernel)",
   "language": "python",
   "name": "python3"
  },
  "language_info": {
   "codemirror_mode": {
    "name": "ipython",
    "version": 3
   },
   "file_extension": ".py",
   "mimetype": "text/x-python",
   "name": "python",
   "nbconvert_exporter": "python",
   "pygments_lexer": "ipython3",
   "version": "3.11.2"
  }
 },
 "nbformat": 4,
 "nbformat_minor": 5
}
